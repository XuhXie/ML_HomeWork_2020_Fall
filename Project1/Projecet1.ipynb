{
 "cells": [
  {
   "cell_type": "code",
   "execution_count": 1,
   "metadata": {},
   "outputs": [
    {
     "name": "stdout",
     "output_type": "stream",
     "text": [
      "Index           bezdekIris.data iris.data       iris.names\r\n"
     ]
    }
   ],
   "source": [
    "import numpy as np\n",
    "from sklearn.pipeline import make_pipeline\n",
    "from sklearn.preprocessing import StandardScaler\n",
    "from sklearn.svm import SVC\n",
    "!ls ./Dataset"
   ]
  },
  {
   "cell_type": "code",
   "execution_count": 2,
   "metadata": {},
   "outputs": [
    {
     "name": "stdout",
     "output_type": "stream",
     "text": [
      "5.1,3.5,1.4,0.2,Iris-setosa\r\n",
      "4.9,3.0,1.4,0.2,Iris-setosa\r\n",
      "4.7,3.2,1.3,0.2,Iris-setosa\r\n",
      "4.6,3.1,1.5,0.2,Iris-setosa\r\n",
      "5.0,3.6,1.4,0.2,Iris-setosa\r\n",
      "5.4,3.9,1.7,0.4,Iris-setosa\r\n",
      "4.6,3.4,1.4,0.3,Iris-setosa\r\n",
      "5.0,3.4,1.5,0.2,Iris-setosa\r\n",
      "4.4,2.9,1.4,0.2,Iris-setosa\r\n",
      "4.9,3.1,1.5,0.1,Iris-setosa\r\n"
     ]
    }
   ],
   "source": [
    "!head ./Dataset/bezdekIris.data"
   ]
  },
  {
   "cell_type": "code",
   "execution_count": 3,
   "metadata": {},
   "outputs": [
    {
     "name": "stdout",
     "output_type": "stream",
     "text": [
      "[['6.7', '3.1', '4.7', '1.5', 'Iris-versicolor'], ['6.3', '3.3', '6.0', '2.5', 'Iris-virginica'], ['5.5', '2.5', '4.0', '1.3', 'Iris-versicolor']]\n",
      "{'Iris-versicolor': 0, 'Iris-virginica': 1, 'Iris-setosa': 2}\n"
     ]
    }
   ],
   "source": [
    "import random\n",
    "\n",
    "class_type = set()\n",
    "class_to_id, id_to_class = {}, {}\n",
    "dataset = []\n",
    "\n",
    "with open('Dataset/bezdekIris.data') as f:\n",
    "    for line in f:\n",
    "        line = line.strip()\n",
    "        if len(line) < 1:\n",
    "            continue\n",
    "        temp = line.split(',')\n",
    "        dataset.append(temp)\n",
    "        class_type.add(temp[-1])\n",
    "        \n",
    "class_type = list(class_type)\n",
    "for i, types in enumerate(class_type):\n",
    "    class_to_id[types] = i\n",
    "    id_to_class[i] = types\n",
    "    \n",
    "\n",
    "random.shuffle(dataset)\n",
    "\n",
    "print(dataset[:3])\n",
    "print(class_to_id)"
   ]
  },
  {
   "cell_type": "code",
   "execution_count": 4,
   "metadata": {},
   "outputs": [
    {
     "name": "stdout",
     "output_type": "stream",
     "text": [
      "120\n"
     ]
    }
   ],
   "source": [
    "random.shuffle(dataset)\n",
    "dataset_len = len(dataset)\n",
    "train_len = int(dataset_len*0.8)\n",
    "trainset = dataset[:train_len]\n",
    "testset = dataset[train_len:]\n",
    "print(len(trainset))\n",
    "\n",
    "\n",
    "def getDataAndLabel(dataset):\n",
    "    data, label = [], []\n",
    "    for item in dataset:\n",
    "        data.append([float(x) for x in item[:-1]])\n",
    "        label.append(class_to_id[item[-1]])\n",
    "    return np.array(data), np.array(label)\n",
    "\n",
    "        "
   ]
  },
  {
   "cell_type": "code",
   "execution_count": 5,
   "metadata": {},
   "outputs": [
    {
     "data": {
      "text/plain": [
       "Pipeline(memory=None,\n",
       "     steps=[('standardscaler', StandardScaler(copy=True, with_mean=True, with_std=True)), ('svc', SVC(C=1.0, cache_size=200, class_weight=None, coef0=0.0,\n",
       "  decision_function_shape='ovr', degree=3, gamma='auto', kernel='rbf',\n",
       "  max_iter=-1, probability=False, random_state=None, shrinking=True,\n",
       "  tol=0.001, verbose=False))])"
      ]
     },
     "execution_count": 5,
     "metadata": {},
     "output_type": "execute_result"
    }
   ],
   "source": [
    "train_data, train_label = getDataAndLabel(trainset)\n",
    "clf = make_pipeline(StandardScaler(), SVC(gamma='auto'))\n",
    "clf.fit(train_data, train_label)"
   ]
  },
  {
   "cell_type": "code",
   "execution_count": 6,
   "metadata": {},
   "outputs": [],
   "source": [
    "test_data, test_label = getDataAndLabel(testset)\n",
    "predict = clf.predict(test_data)"
   ]
  },
  {
   "cell_type": "code",
   "execution_count": 7,
   "metadata": {},
   "outputs": [
    {
     "data": {
      "text/plain": [
       "0.9666666666666667"
      ]
     },
     "execution_count": 7,
     "metadata": {},
     "output_type": "execute_result"
    }
   ],
   "source": [
    "sum(predict == test_label) / len(predict)"
   ]
  },
  {
   "cell_type": "code",
   "execution_count": null,
   "metadata": {},
   "outputs": [],
   "source": []
  }
 ],
 "metadata": {
  "kernelspec": {
   "display_name": "Python 3",
   "language": "python",
   "name": "python3"
  },
  "language_info": {
   "codemirror_mode": {
    "name": "ipython",
    "version": 3
   },
   "file_extension": ".py",
   "mimetype": "text/x-python",
   "name": "python",
   "nbconvert_exporter": "python",
   "pygments_lexer": "ipython3",
   "version": "3.7.6"
  }
 },
 "nbformat": 4,
 "nbformat_minor": 4
}
