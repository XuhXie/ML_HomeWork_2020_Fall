{
 "cells": [
  {
   "cell_type": "code",
   "execution_count": 21,
   "metadata": {
    "ExecuteTime": {
     "end_time": "2021-01-03T03:22:15.906244Z",
     "start_time": "2021-01-03T03:22:15.447359Z"
    }
   },
   "outputs": [
    {
     "name": "stdout",
     "output_type": "stream",
     "text": [
      "18846\n",
      "18846\n"
     ]
    }
   ],
   "source": [
    "from sklearn.datasets import fetch_20newsgroups\n",
    "from sklearn.feature_extraction.text import TfidfVectorizer\n",
    "from sklearn.linear_model import RidgeClassifier, LogisticRegression\n",
    "from lightgbm import LGBMClassifier\n",
    "from sklearn.metrics import accuracy_score\n",
    "from sklearn.model_selection import KFold\n",
    "\n",
    "train_data = fetch_20newsgroups(subset='train', shuffle=True)\n",
    "test_data = fetch_20newsgroups(subset='test', shuffle=True)\n",
    "\n",
    "\n",
    "class_names = train_data.target_names\n",
    "\n",
    "\n",
    "data = train_data.data + test_data.data\n",
    "label = list(train_data.target) + list(test_data.target)\n",
    "\n",
    "print(len(data))\n",
    "print(len(label))\n",
    "\n"
   ]
  },
  {
   "cell_type": "code",
   "execution_count": 27,
   "metadata": {
    "ExecuteTime": {
     "end_time": "2021-01-03T03:51:29.358897Z",
     "start_time": "2021-01-03T03:36:12.248823Z"
    }
   },
   "outputs": [
    {
     "name": "stdout",
     "output_type": "stream",
     "text": [
      "[ 7  4  4  1 14 16 13  3  2  3] [7, 4, 4, 1, 14, 16, 13, 3, 2, 4]\n",
      "0.8331564986737401\n",
      "[18  2  3 19 15 12 17  6  7  8] [18, 2, 3, 19, 15, 12, 17, 6, 7, 8]\n",
      "0.8344388431944813\n",
      "[ 0  4 17 13  3  6 14 17  6  8] [0, 4, 17, 13, 3, 6, 14, 17, 6, 8]\n",
      "0.8426638365614221\n",
      "[ 5 13  4  3  1  7  4 12  0 17] [5, 13, 4, 3, 1, 8, 7, 5, 0, 17]\n",
      "0.8187848235606262\n",
      "[ 2  8 10  0  1 15  3 10 10  9] [2, 8, 10, 0, 1, 15, 3, 10, 18, 9]\n",
      "0.8201114353940037\n"
     ]
    }
   ],
   "source": [
    "kf = KFold(n_splits=5)\n",
    "result = []\n",
    "\n",
    "def getDataByIndex(data, index):\n",
    "    result = []\n",
    "    for i in index:\n",
    "        result.append(data[i])\n",
    "    return result\n",
    "\n",
    "for train_index, test_index in kf.split(data):\n",
    "    train_data, train_label = getDataByIndex(data, train_index), getDataByIndex(label, train_index)\n",
    "    test_data, test_label = getDataByIndex(data, test_index), getDataByIndex(label, test_index)\n",
    "    assert len(train_data) == len(train_label)\n",
    "    tfidf = TfidfVectorizer(ngram_range=(1, 2), max_features=4000).fit(train_data)\n",
    "    train_tfidf = tfidf.transform(train_data)\n",
    "    test_tfidf = tfidf.transform(test_data)\n",
    "    \n",
    "    clf = LGBMClassifier()\n",
    "    clf.fit(train_tfidf, train_label)\n",
    "    \n",
    "    pred = clf.predict(test_tfidf)\n",
    "    print(pred[:10], test_label[:10])\n",
    "    acc = accuracy_score(pred, test_label)\n",
    "    print(acc)\n",
    "    result.append(acc)\n",
    "    \n",
    "    "
   ]
  },
  {
   "cell_type": "code",
   "execution_count": 29,
   "metadata": {
    "ExecuteTime": {
     "end_time": "2021-01-03T04:18:59.441166Z",
     "start_time": "2021-01-03T04:18:59.438381Z"
    }
   },
   "outputs": [
    {
     "name": "stdout",
     "output_type": "stream",
     "text": [
      "0.8298310874768546\n"
     ]
    }
   ],
   "source": [
    "avg_score = sum(result)/len(result)\n",
    "print(avg_score)"
   ]
  },
  {
   "cell_type": "code",
   "execution_count": null,
   "metadata": {},
   "outputs": [],
   "source": []
  }
 ],
 "metadata": {
  "kernelspec": {
   "display_name": "Python 3",
   "language": "python",
   "name": "python3"
  },
  "language_info": {
   "codemirror_mode": {
    "name": "ipython",
    "version": 3
   },
   "file_extension": ".py",
   "mimetype": "text/x-python",
   "name": "python",
   "nbconvert_exporter": "python",
   "pygments_lexer": "ipython3",
   "version": "3.6.10"
  }
 },
 "nbformat": 4,
 "nbformat_minor": 4
}
